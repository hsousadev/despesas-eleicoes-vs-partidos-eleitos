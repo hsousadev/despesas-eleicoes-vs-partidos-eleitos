{
 "cells": [
  {
   "cell_type": "markdown",
   "metadata": {},
   "source": [
    "# **DESPESAS COM ELEIÇÕES vs. PARTIDOS ELEITOS**\n",
    "## **Eleições Municipais para Prefeito e Vereadores de 2020**\n",
    "\n",
    "### 3º SEMESTRE ADS - TURMA A 2/2020 - ESTRUTURA DE DADOS\n",
    "\n",
    "### **Professor:** \n",
    "### <a href=\"https://github.com/fmasanori\" target=\"_blank\">Fernando Masanori</a>\n",
    "\n",
    "### **Alunos:** \n",
    "#### <a href=\"https://github.com/justhenrique\" target=\"_blank\">Washington Henrique Sousa</a>\n",
    "\n",
    "#### <a href=\"https://github.com/LeonardoMessias98\" target=\"_blank\">Leonardo Messias</a>\n",
    "\n",
    "### **Descrição:**\n",
    "Este trabalho tem com objetivo apresentar uma análise de dados referente ao 'Despesas em Eleições vs. Canditados Eleitos no Estado de SP', no ano de 2020. Com duas fontes de dados: Despesas Contradas por Orgãos Partidários ('despesas_contratadas_orgaos_partidarios_2020_SP.csv') e Resultado das Votações municipais ('votacao_partido_munzona_2020_SP.csv') do Repositório de Dados Eleitorais oficial do Tribunal Superior Eleitoral (https://www.tse.jus.br/eleicoes/estatisticas/repositorio-de-dados-eleitorais-1)"
   ]
  },
  {
   "cell_type": "markdown",
   "metadata": {},
   "source": [
    "### **01. Importação de Bibliotecas e Dados**"
   ]
  },
  {
   "cell_type": "code",
   "execution_count": 6,
   "metadata": {},
   "outputs": [],
   "source": [
    "import pandas as pd\n",
    "import matplotlib.pyplot as plt\n",
    "import collections\n",
    "from math import sqrt"
   ]
  },
  {
   "cell_type": "code",
   "execution_count": 7,
   "metadata": {},
   "outputs": [],
   "source": [
    "dfDespesas = pd.read_csv(\"/home/henrique/Desktop/ep4/despesas_contratadas_orgaos_partidarios_2020_SP.csv\", delimiter=';', encoding='Latin 1', usecols = ['NM_PARTIDO','SG_PARTIDO','NM_FORNECEDOR','DT_DESPESA','DS_DESPESA','VR_DESPESA_CONTRATADA'])\n",
    "dfResultados = pd.read_csv(\"/home/henrique/Desktop/ep4/votacao_partido_munzona_2020_SP.csv\", delimiter=';', encoding='Latin 1', usecols = ['ANO_ELEICAO','DS_ELEICAO','NM_MUNICIPIO','NM_PARTIDO','NM_COLIGACAO','QT_VOTOS_NOMINAIS'])"
   ]
  },
  {
   "cell_type": "markdown",
   "metadata": {},
   "source": [
    "#### **01.1 Tabela Filtrada: Despesas Contradas**"
   ]
  },
  {
   "cell_type": "code",
   "execution_count": 8,
   "metadata": {},
   "outputs": [
    {
     "data": {
      "text/html": [
       "<div>\n",
       "<style scoped>\n",
       "    .dataframe tbody tr th:only-of-type {\n",
       "        vertical-align: middle;\n",
       "    }\n",
       "\n",
       "    .dataframe tbody tr th {\n",
       "        vertical-align: top;\n",
       "    }\n",
       "\n",
       "    .dataframe thead th {\n",
       "        text-align: right;\n",
       "    }\n",
       "</style>\n",
       "<table border=\"1\" class=\"dataframe\">\n",
       "  <thead>\n",
       "    <tr style=\"text-align: right;\">\n",
       "      <th></th>\n",
       "      <th>SG_PARTIDO</th>\n",
       "      <th>NM_PARTIDO</th>\n",
       "      <th>NM_FORNECEDOR</th>\n",
       "      <th>DT_DESPESA</th>\n",
       "      <th>DS_DESPESA</th>\n",
       "      <th>VR_DESPESA_CONTRATADA</th>\n",
       "    </tr>\n",
       "  </thead>\n",
       "  <tbody>\n",
       "    <tr>\n",
       "      <th>0</th>\n",
       "      <td>PODE</td>\n",
       "      <td>Podemos</td>\n",
       "      <td>G DEBONI ADESIVOS</td>\n",
       "      <td>06/10/2020</td>\n",
       "      <td>ADESIVOS PARACHOQUE 30X7·5CM</td>\n",
       "      <td>428,00</td>\n",
       "    </tr>\n",
       "    <tr>\n",
       "      <th>1</th>\n",
       "      <td>PV</td>\n",
       "      <td>Partido Verde</td>\n",
       "      <td>Direção Estadual/Distrital</td>\n",
       "      <td>29/10/2020</td>\n",
       "      <td>#NULO#</td>\n",
       "      <td>5500,00</td>\n",
       "    </tr>\n",
       "    <tr>\n",
       "      <th>2</th>\n",
       "      <td>PODE</td>\n",
       "      <td>Podemos</td>\n",
       "      <td>#NULO#</td>\n",
       "      <td>05/10/2020</td>\n",
       "      <td>TARIFA BANCARIA</td>\n",
       "      <td>21,00</td>\n",
       "    </tr>\n",
       "    <tr>\n",
       "      <th>3</th>\n",
       "      <td>PODE</td>\n",
       "      <td>Podemos</td>\n",
       "      <td>ALPHACOR GRAFICA E EDITORA LTDA</td>\n",
       "      <td>02/10/2020</td>\n",
       "      <td>IMPRESSO ADESIVOS</td>\n",
       "      <td>1400,00</td>\n",
       "    </tr>\n",
       "    <tr>\n",
       "      <th>4</th>\n",
       "      <td>PODE</td>\n",
       "      <td>Podemos</td>\n",
       "      <td>#NULO#</td>\n",
       "      <td>19/10/2020</td>\n",
       "      <td>TARIFA BANCARIA</td>\n",
       "      <td>5,20</td>\n",
       "    </tr>\n",
       "  </tbody>\n",
       "</table>\n",
       "</div>"
      ],
      "text/plain": [
       "  SG_PARTIDO     NM_PARTIDO                    NM_FORNECEDOR  DT_DESPESA  \\\n",
       "0       PODE        Podemos                G DEBONI ADESIVOS  06/10/2020   \n",
       "1         PV  Partido Verde       Direção Estadual/Distrital  29/10/2020   \n",
       "2       PODE        Podemos                           #NULO#  05/10/2020   \n",
       "3       PODE        Podemos  ALPHACOR GRAFICA E EDITORA LTDA  02/10/2020   \n",
       "4       PODE        Podemos                           #NULO#  19/10/2020   \n",
       "\n",
       "                     DS_DESPESA VR_DESPESA_CONTRATADA  \n",
       "0  ADESIVOS PARACHOQUE 30X7·5CM                428,00  \n",
       "1                        #NULO#               5500,00  \n",
       "2               TARIFA BANCARIA                 21,00  \n",
       "3             IMPRESSO ADESIVOS               1400,00  \n",
       "4               TARIFA BANCARIA                  5,20  "
      ]
     },
     "execution_count": 8,
     "metadata": {},
     "output_type": "execute_result"
    }
   ],
   "source": [
    "dfDespesas.head()"
   ]
  },
  {
   "cell_type": "markdown",
   "metadata": {},
   "source": [
    "####  **01.2 Tabela Filtrada: Resultado das Votações municipais**"
   ]
  },
  {
   "cell_type": "code",
   "execution_count": 9,
   "metadata": {},
   "outputs": [
    {
     "data": {
      "text/html": [
       "<div>\n",
       "<style scoped>\n",
       "    .dataframe tbody tr th:only-of-type {\n",
       "        vertical-align: middle;\n",
       "    }\n",
       "\n",
       "    .dataframe tbody tr th {\n",
       "        vertical-align: top;\n",
       "    }\n",
       "\n",
       "    .dataframe thead th {\n",
       "        text-align: right;\n",
       "    }\n",
       "</style>\n",
       "<table border=\"1\" class=\"dataframe\">\n",
       "  <thead>\n",
       "    <tr style=\"text-align: right;\">\n",
       "      <th></th>\n",
       "      <th>ANO_ELEICAO</th>\n",
       "      <th>DS_ELEICAO</th>\n",
       "      <th>NM_MUNICIPIO</th>\n",
       "      <th>NM_PARTIDO</th>\n",
       "      <th>NM_COLIGACAO</th>\n",
       "      <th>QT_VOTOS_NOMINAIS</th>\n",
       "    </tr>\n",
       "  </thead>\n",
       "  <tbody>\n",
       "    <tr>\n",
       "      <th>0</th>\n",
       "      <td>2020</td>\n",
       "      <td>Eleições Municipais 2020</td>\n",
       "      <td>ASSIS</td>\n",
       "      <td>Partido Trabalhista Brasileiro</td>\n",
       "      <td>PARTIDO ISOLADO</td>\n",
       "      <td>3026</td>\n",
       "    </tr>\n",
       "    <tr>\n",
       "      <th>1</th>\n",
       "      <td>2020</td>\n",
       "      <td>Eleições Municipais 2020</td>\n",
       "      <td>MIRANTE DO PARANAPANEMA</td>\n",
       "      <td>Partido dos Trabalhadores</td>\n",
       "      <td>PARTIDO ISOLADO</td>\n",
       "      <td>191</td>\n",
       "    </tr>\n",
       "    <tr>\n",
       "      <th>2</th>\n",
       "      <td>2020</td>\n",
       "      <td>Eleições Municipais 2020</td>\n",
       "      <td>VARGEM</td>\n",
       "      <td>Partido Trabalhista Brasileiro</td>\n",
       "      <td>PARTIDO ISOLADO</td>\n",
       "      <td>361</td>\n",
       "    </tr>\n",
       "    <tr>\n",
       "      <th>3</th>\n",
       "      <td>2020</td>\n",
       "      <td>Eleições Municipais 2020</td>\n",
       "      <td>ITAÍ</td>\n",
       "      <td>Partido Trabalhista Brasileiro</td>\n",
       "      <td>PARTIDO ISOLADO</td>\n",
       "      <td>937</td>\n",
       "    </tr>\n",
       "    <tr>\n",
       "      <th>4</th>\n",
       "      <td>2020</td>\n",
       "      <td>Eleições Municipais 2020</td>\n",
       "      <td>GUAPIARA</td>\n",
       "      <td>Partido Trabalhista Brasileiro</td>\n",
       "      <td>PARTIDO ISOLADO</td>\n",
       "      <td>1563</td>\n",
       "    </tr>\n",
       "  </tbody>\n",
       "</table>\n",
       "</div>"
      ],
      "text/plain": [
       "   ANO_ELEICAO                DS_ELEICAO             NM_MUNICIPIO  \\\n",
       "0         2020  Eleições Municipais 2020                    ASSIS   \n",
       "1         2020  Eleições Municipais 2020  MIRANTE DO PARANAPANEMA   \n",
       "2         2020  Eleições Municipais 2020                   VARGEM   \n",
       "3         2020  Eleições Municipais 2020                     ITAÍ   \n",
       "4         2020  Eleições Municipais 2020                 GUAPIARA   \n",
       "\n",
       "                       NM_PARTIDO     NM_COLIGACAO  QT_VOTOS_NOMINAIS  \n",
       "0  Partido Trabalhista Brasileiro  PARTIDO ISOLADO               3026  \n",
       "1       Partido dos Trabalhadores  PARTIDO ISOLADO                191  \n",
       "2  Partido Trabalhista Brasileiro  PARTIDO ISOLADO                361  \n",
       "3  Partido Trabalhista Brasileiro  PARTIDO ISOLADO                937  \n",
       "4  Partido Trabalhista Brasileiro  PARTIDO ISOLADO               1563  "
      ]
     },
     "execution_count": 9,
     "metadata": {},
     "output_type": "execute_result"
    }
   ],
   "source": [
    "dfResultados.head()"
   ]
  },
  {
   "cell_type": "markdown",
   "metadata": {},
   "source": [
    "### **02. Quantidade Total de Partidos** "
   ]
  },
  {
   "cell_type": "code",
   "execution_count": 10,
   "metadata": {},
   "outputs": [
    {
     "data": {
      "text/plain": [
       "32"
      ]
     },
     "execution_count": 10,
     "metadata": {},
     "output_type": "execute_result"
    }
   ],
   "source": [
    "dfDespesas['NM_PARTIDO'].drop_duplicates().count()"
   ]
  },
  {
   "cell_type": "markdown",
   "metadata": {},
   "source": [
    "### **03. Nome dos Partidos**"
   ]
  },
  {
   "cell_type": "code",
   "execution_count": 11,
   "metadata": {},
   "outputs": [
    {
     "data": {
      "text/plain": [
       "0                                               Podemos\n",
       "1                                         Partido Verde\n",
       "19                                            Cidadania\n",
       "47                       Partido Trabalhista Brasileiro\n",
       "57                           Partido Social Democrático\n",
       "72              Partido da Social Democracia Brasileira\n",
       "78                                        Solidariedade\n",
       "112                     Partido Democrático Trabalhista\n",
       "113                                        REPUBLICANOS\n",
       "115                                          Democratas\n",
       "120                                            Patriota\n",
       "136                                     Partido Liberal\n",
       "300                       Partido Socialista Brasileiro\n",
       "366                         Partido Comunista do Brasil\n",
       "407                      Partido Socialismo e Liberdade\n",
       "458                           Partido dos Trabalhadores\n",
       "814                    Movimento Democrático Brasileiro\n",
       "853                                       PROGRESSISTAS\n",
       "1217                                             AVANTE\n",
       "1218                             Partido Social Cristão\n",
       "1407           Partido Renovador Trabalhista Brasileiro\n",
       "1515                             Partido Social Liberal\n",
       "1608                        Partido Trabalhista Cristão\n",
       "2369                              Rede Sustentabilidade\n",
       "3417                                       Partido Novo\n",
       "3710                       Partido da Mulher Brasileira\n",
       "5992                                  Democracia Cristã\n",
       "7270                    Partido da Mobilização Nacional\n",
       "8973                Partido Republicano da Ordem Social\n",
       "11836    Partido Socialista dos Trabalhadores Unificado\n",
       "16268                      Partido Comunista Brasileiro\n",
       "24903                                   Unidade Popular\n",
       "Name: NM_PARTIDO, dtype: object"
      ]
     },
     "execution_count": 11,
     "metadata": {},
     "output_type": "execute_result"
    }
   ],
   "source": [
    "(dfDespesas['NM_PARTIDO']).drop_duplicates()"
   ]
  },
  {
   "cell_type": "markdown",
   "metadata": {},
   "source": [
    "#### **03.1 Sigla dos Partidos**"
   ]
  },
  {
   "cell_type": "code",
   "execution_count": 12,
   "metadata": {},
   "outputs": [
    {
     "data": {
      "text/plain": [
       "0                 PODE\n",
       "1                   PV\n",
       "19           CIDADANIA\n",
       "47                 PTB\n",
       "57                 PSD\n",
       "72                PSDB\n",
       "78       SOLIDARIEDADE\n",
       "112                PDT\n",
       "113       REPUBLICANOS\n",
       "115                DEM\n",
       "120           PATRIOTA\n",
       "136                 PL\n",
       "300                PSB\n",
       "366            PC do B\n",
       "407               PSOL\n",
       "458                 PT\n",
       "814                MDB\n",
       "853                 PP\n",
       "1217            AVANTE\n",
       "1218               PSC\n",
       "1407              PRTB\n",
       "1515               PSL\n",
       "1608               PTC\n",
       "2369              REDE\n",
       "3417              NOVO\n",
       "3710               PMB\n",
       "5992                DC\n",
       "7270               PMN\n",
       "8973              PROS\n",
       "11836             PSTU\n",
       "16268              PCB\n",
       "24903               UP\n",
       "Name: SG_PARTIDO, dtype: object"
      ]
     },
     "execution_count": 12,
     "metadata": {},
     "output_type": "execute_result"
    }
   ],
   "source": [
    "(dfDespesas['SG_PARTIDO']).drop_duplicates()"
   ]
  },
  {
   "cell_type": "markdown",
   "metadata": {},
   "source": [
    "### **04. Quantidade Total de Despesas contratadas**"
   ]
  },
  {
   "cell_type": "code",
   "execution_count": 13,
   "metadata": {},
   "outputs": [
    {
     "data": {
      "text/plain": [
       "32280"
      ]
     },
     "execution_count": 13,
     "metadata": {},
     "output_type": "execute_result"
    }
   ],
   "source": [
    "dfDespesas['DS_DESPESA'].count()"
   ]
  },
  {
   "cell_type": "markdown",
   "metadata": {},
   "source": [
    "### **05. Valor da soma TOTAL de Gastos (R$) em Despesas**"
   ]
  },
  {
   "cell_type": "code",
   "execution_count": 14,
   "metadata": {},
   "outputs": [],
   "source": [
    "aux = 0\n",
    "for x in (dfDespesas['VR_DESPESA_CONTRATADA']):\n",
    "    aux += int(x.split(',')[0])\n"
   ]
  },
  {
   "cell_type": "code",
   "execution_count": 15,
   "metadata": {},
   "outputs": [
    {
     "data": {
      "text/plain": [
       "146644303"
      ]
     },
     "execution_count": 15,
     "metadata": {},
     "output_type": "execute_result"
    }
   ],
   "source": [
    "aux"
   ]
  },
  {
   "cell_type": "markdown",
   "metadata": {},
   "source": [
    "### **06. Ranking: Partidos que mais Contrataram despesas**"
   ]
  },
  {
   "cell_type": "markdown",
   "metadata": {},
   "source": [
    "#### **TOP 5**"
   ]
  },
  {
   "cell_type": "code",
   "execution_count": 127,
   "metadata": {},
   "outputs": [
    {
     "data": {
      "image/png": "[encoded data removed]",
      "text/plain": [
       "<Figure size 1360x480 with 1 Axes>"
      ]
     },
     "metadata": {},
     "output_type": "display_data"
    }
   ],
   "source": [
    "rank = dfDespesas['NM_PARTIDO'].value_counts()\n",
    "top5 = dfDespesas['NM_PARTIDO'].value_counts()[0:5]\n",
    "\n",
    "NM_P = ['Partido Social Democrático','Patriota','REPUBLICANOS','Podemos', 'Partido da Social Democracia Brasileira']\n",
    "valores = top5\n",
    "\n",
    "plt.figure(figsize = (17, 6))\n",
    "plt.title('TOP 5 - Partidos que mais Contrataram despesas')\n",
    "plt.bar(NM_P, valores)\n",
    "plt.style.use(\"fast\")\n",
    "plt.xlabel(\"Partidos\")\n",
    "plt.ylabel(\"Quantidade de Despesas Contratadas\")\n",
    "\n",
    "plt.show()\n"
   ]
  },
  {
   "cell_type": "markdown",
   "metadata": {},
   "source": [
    "#### **Ranking completo**"
   ]
  },
  {
   "cell_type": "code",
   "execution_count": 16,
   "metadata": {},
   "outputs": [
    {
     "data": {
      "text/plain": [
       "Partido Social Democrático                        3611\n",
       "Patriota                                          2972\n",
       "REPUBLICANOS                                      2769\n",
       "Podemos                                           2739\n",
       "Partido da Social Democracia Brasileira           2196\n",
       "Democratas                                        1992\n",
       "Partido dos Trabalhadores                         1939\n",
       "Solidariedade                                     1592\n",
       "Movimento Democrático Brasileiro                  1383\n",
       "Partido Socialista Brasileiro                     1258\n",
       "Cidadania                                         1184\n",
       "Partido Social Liberal                            1168\n",
       "Partido Liberal                                   1123\n",
       "Partido Socialismo e Liberdade                     796\n",
       "Partido Verde                                      771\n",
       "Partido Trabalhista Brasileiro                     745\n",
       "Partido Democrático Trabalhista                    684\n",
       "Rede Sustentabilidade                              596\n",
       "Partido Social Cristão                             593\n",
       "Partido Comunista do Brasil                        403\n",
       "PROGRESSISTAS                                      389\n",
       "Partido Novo                                       369\n",
       "AVANTE                                             343\n",
       "Democracia Cristã                                  198\n",
       "Partido da Mobilização Nacional                    189\n",
       "Partido Renovador Trabalhista Brasileiro            91\n",
       "Partido Trabalhista Cristão                         61\n",
       "Partido Republicano da Ordem Social                 56\n",
       "Unidade Popular                                     22\n",
       "Partido da Mulher Brasileira                        21\n",
       "Partido Socialista dos Trabalhadores Unificado      18\n",
       "Partido Comunista Brasileiro                         9\n",
       "Name: NM_PARTIDO, dtype: int64"
      ]
     },
     "execution_count": 16,
     "metadata": {},
     "output_type": "execute_result"
    }
   ],
   "source": [
    "dfDespesas['NM_PARTIDO'].value_counts()"
   ]
  },
  {
   "cell_type": "markdown",
   "metadata": {},
   "source": [
    "### **07. Ranking: Despesas mais contradadas**"
   ]
  },
  {
   "cell_type": "markdown",
   "metadata": {},
   "source": [
    "*Observação: A maior parte das despesas estavam sem descrição (#NULO#), não sendo possível em o que foi gasto o valor.*"
   ]
  },
  {
   "cell_type": "markdown",
   "metadata": {},
   "source": [
    "#### **TOP 5**"
   ]
  },
  {
   "cell_type": "code",
   "execution_count": 125,
   "metadata": {},
   "outputs": [
    {
     "data": {
      "image/png": "[encoded data removed]",
      "text/plain": [
       "<Figure size 1360x480 with 1 Axes>"
      ]
     },
     "metadata": {},
     "output_type": "display_data"
    }
   ],
   "source": [
    "rank = dfDespesas['DS_DESPESA'].value_counts()\n",
    "top5 = dfDespesas['DS_DESPESA'].value_counts()[0:5]\n",
    "\n",
    "NM_P = ['#NULO#','TARIFA TRANSFERENCIA DE RECURSOS','TAR DOC/TED ELETRONICO','ADESIVO PERFURADO', 'TARIFAS E COMISSOES BANCARIAS']\n",
    "valores = top5\n",
    "\n",
    "plt.figure(figsize = (17, 6))\n",
    "plt.title('TOP 5 - Despesas mais contradadas')\n",
    "plt.bar(NM_P, valores)\n",
    "plt.style.use(\"ggplot\")\n",
    "plt.xlabel(\"Partidos\")\n",
    "plt.ylabel(\"Quantidade\")\n",
    "\n",
    "plt.show()"
   ]
  },
  {
   "cell_type": "markdown",
   "metadata": {},
   "source": [
    "#### **Ranking Completo**"
   ]
  },
  {
   "cell_type": "code",
   "execution_count": 17,
   "metadata": {},
   "outputs": [
    {
     "data": {
      "text/plain": [
       "#NULO#                                            4870\n",
       "TARIFA TRANSFERENCIA DE RECURSOS                   192\n",
       "TAR DOC/TED ELETRONICO                             171\n",
       "ADESIVO PERFURADO                                  165\n",
       "TARIFAS E COMISSOES BANCARIAS                      164\n",
       "                                                  ... \n",
       "ADESIVO PERFURADO 60X32 PREF + GILSINHO              1\n",
       "TARIFA PROCESSAMENTO DE CHEQUES                      1\n",
       "SALÃO COMERCIAL - LOCALIZADO EM JUNQUEIRÓPOLIS       1\n",
       "ADESIVO REDONDO 30X30 PARA A CAND EDNA CABRERA       1\n",
       "20-309-OFF SET 75 GR 10 X 15 CM FRENTE / VERSO       1\n",
       "Name: DS_DESPESA, Length: 19824, dtype: int64"
      ]
     },
     "execution_count": 17,
     "metadata": {},
     "output_type": "execute_result"
    }
   ],
   "source": [
    "dfDespesas['DS_DESPESA'].value_counts()"
   ]
  },
  {
   "cell_type": "markdown",
   "metadata": {},
   "source": [
    "### **08. Ranking: Maiores Fornecedores**"
   ]
  },
  {
   "cell_type": "markdown",
   "metadata": {},
   "source": [
    "*Observação: A maior quantidade de despesas não tinha o nome dos seus fornecedores*\n"
   ]
  },
  {
   "cell_type": "code",
   "execution_count": 131,
   "metadata": {},
   "outputs": [
    {
     "data": {
      "image/png": "[encoded data removed]",
      "text/plain": [
       "<Figure size 1360x480 with 1 Axes>"
      ]
     },
     "metadata": {},
     "output_type": "display_data"
    }
   ],
   "source": [
    "rank = dfDespesas['NM_FORNECEDOR'].value_counts()\n",
    "top5 = dfDespesas['NM_FORNECEDOR'].value_counts()[0:5]\n",
    "\n",
    "NM_P = ['#NULO#','TARIFA TRANSFERENCIA DE RECURSOS','TAR DOC/TED ELETRONICO','ADESIVO PERFURADO', 'TARIFAS E COMISSOES BANCARIAS']\n",
    "valores = top5\n",
    "\n",
    "plt.figure(figsize = (17, 6))\n",
    "plt.title('TOP 5 - Maiores Fornecedores')\n",
    "plt.bar(NM_P, valores)\n",
    "plt.style.use(\"fast\")\n",
    "plt.xlabel(\"Fornecedores\")\n",
    "plt.ylabel(\"Quantidade\")\n",
    "\n",
    "plt.show()"
   ]
  },
  {
   "cell_type": "code",
   "execution_count": 18,
   "metadata": {},
   "outputs": [
    {
     "data": {
      "text/plain": [
       "#NULO#                                                4007\n",
       "BRASPOR GRAFICA E EDITORA LTDA                        1309\n",
       "GRAFICA ABREU LTDA EPP                                1168\n",
       "FORMAG S GRÁFICA E EDITORA EIRELI                      861\n",
       "Direção Municipal/Comissão Provisória                  739\n",
       "                                                      ... \n",
       "ELEIÇÃO 2020 - VALERIA CRISTINA ROSSETO - VEREADOR       1\n",
       "NICOLAS DE QUEIROZ RODRIGUES                             1\n",
       "MERENCIANO OLIVEIRA SANTOS JUNIOR                        1\n",
       "OMAR YAMYA CHAIN                                         1\n",
       "JOANA SOLEIDE DIAS                                       1\n",
       "Name: NM_FORNECEDOR, Length: 6785, dtype: int64"
      ]
     },
     "execution_count": 18,
     "metadata": {},
     "output_type": "execute_result"
    }
   ],
   "source": [
    "dfDespesas['NM_FORNECEDOR'].value_counts()"
   ]
  },
  {
   "cell_type": "markdown",
   "metadata": {},
   "source": [
    "### **09. Ranking: Partidos com mais canditados eleitos**\n",
    "\n",
    "*Observação: \"Os eleitores devem votar em dois candidatos, um para prefeito e outro para vereador. Entretanto, diferentemente do cargo único do executivo, o legislativo possui mais vagas. Ou seja, mais de um vereador será eleito, variando de acordo com o número de habitantes do respectivo munícipio. A exemplo, uma cidade com até 15.000 habitantes pode eleger, no máximo, nove vereadores, sem restrição à reeleição.\" Fonte: <a href=\"https://www.dci.com.br/politica/eleicoes-2020/como-e-quantos-vereadores-serao-eleitos-por-municipio/38195/\" target=\"_blank\">JORNAL DCI</a>*"
   ]
  },
  {
   "cell_type": "markdown",
   "metadata": {},
   "source": [
    "#### **TOP 5**"
   ]
  },
  {
   "cell_type": "code",
   "execution_count": 105,
   "metadata": {},
   "outputs": [
    {
     "data": {
      "image/png": "[encoded data removed]",
      "text/plain": [
       "<Figure size 1224x432 with 1 Axes>"
      ]
     },
     "metadata": {},
     "output_type": "display_data"
    }
   ],
   "source": [
    "rank = dfResultados['NM_PARTIDO'].value_counts()\n",
    "top5 = dfResultados['NM_PARTIDO'].value_counts()[0:5]\n",
    "\n",
    "NM_P = ['Partido da Social Democracia Brasileira','Partido Social Democrático','Democratas','Movimento Democrático Brasileiro', 'Partido Trabalhista Brasileiro']\n",
    "valores = top5\n",
    "\n",
    "plt.figure(figsize = (17, 6))\n",
    "plt.title('TOP 5 - Partidos com mais canditados eleitos')\n",
    "plt.bar(NM_P, valores)\n",
    "plt.style.use(\"ggplot\")\n",
    "plt.xlabel(\"Partidos\")\n",
    "plt.ylabel(\"Quantidade de canditados\")\n",
    "\n",
    "plt.show()\n"
   ]
  },
  {
   "cell_type": "markdown",
   "metadata": {},
   "source": [
    "#### **Ranking Completo**"
   ]
  },
  {
   "cell_type": "code",
   "execution_count": 46,
   "metadata": {},
   "outputs": [
    {
     "data": {
      "text/plain": [
       "Partido da Social Democracia Brasileira           1180\n",
       "Partido Social Democrático                         797\n",
       "Democratas                                         757\n",
       "Movimento Democrático Brasileiro                   748\n",
       "Partido Trabalhista Brasileiro                     681\n",
       "REPUBLICANOS                                       680\n",
       "Partido dos Trabalhadores                          634\n",
       "Podemos                                            598\n",
       "Partido Social Liberal                             596\n",
       "Partido Liberal                                    585\n",
       "Partido Socialista Brasileiro                      528\n",
       "Patriota                                           471\n",
       "PROGRESSISTAS                                      446\n",
       "Partido Socialismo e Liberdade                     413\n",
       "Partido Democrático Trabalhista                    410\n",
       "Solidariedade                                      402\n",
       "Partido Renovador Trabalhista Brasileiro           400\n",
       "Cidadania                                          394\n",
       "Partido Verde                                      381\n",
       "AVANTE                                             299\n",
       "Partido Comunista do Brasil                        274\n",
       "Partido Social Cristão                             267\n",
       "Rede Sustentabilidade                              230\n",
       "Partido Republicano da Ordem Social                196\n",
       "Partido Trabalhista Cristão                        190\n",
       "Partido Socialista dos Trabalhadores Unificado     179\n",
       "Partido da Mobilização Nacional                    161\n",
       "Democracia Cristã                                  143\n",
       "Partido da Mulher Brasileira                       128\n",
       "Partido Novo                                       112\n",
       "Partido da Causa Operária                           69\n",
       "Unidade Popular                                     67\n",
       "Partido Comunista Brasileiro                        62\n",
       "Name: NM_PARTIDO, dtype: int64"
      ]
     },
     "execution_count": 46,
     "metadata": {},
     "output_type": "execute_result"
    }
   ],
   "source": [
    "dfResultados['NM_PARTIDO'].value_counts()."
   ]
  },
  {
   "cell_type": "markdown",
   "metadata": {},
   "source": [
    "### **10. Quantidade de Municipios no Estado de SP**"
   ]
  },
  {
   "cell_type": "code",
   "execution_count": 23,
   "metadata": {},
   "outputs": [
    {
     "data": {
      "text/plain": [
       "645"
      ]
     },
     "execution_count": 23,
     "metadata": {},
     "output_type": "execute_result"
    }
   ],
   "source": [
    "dfResultados['NM_MUNICIPIO'].drop_duplicates().count()"
   ]
  }
 ],
 "metadata": {
  "kernelspec": {
   "display_name": "Python 3",
   "language": "python",
   "name": "python3"
  },
  "language_info": {
   "codemirror_mode": {
    "name": "ipython",
    "version": 3
   },
   "file_extension": ".py",
   "mimetype": "text/x-python",
   "name": "python",
   "nbconvert_exporter": "python",
   "pygments_lexer": "ipython3",
   "version": "3.8.5"
  }
 },
 "nbformat": 4,
 "nbformat_minor": 4
}
